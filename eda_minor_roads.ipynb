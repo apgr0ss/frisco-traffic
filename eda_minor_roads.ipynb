{
 "cells": [
  {
   "cell_type": "code",
   "execution_count": 165,
   "metadata": {},
   "outputs": [],
   "source": [
    "import numpy as np\n",
    "import pandas as pd\n",
    "import datetime as dt\n",
    "import matplotlib.pyplot as plt"
   ]
  },
  {
   "cell_type": "code",
   "execution_count": 166,
   "metadata": {},
   "outputs": [],
   "source": [
    "# import dataset\n",
    "df_minor = pd.read_csv('data/road_issues_minor.csv',index_col=0)\n",
    "\n",
    "lower_case_cols = [col_name.lower() for col_name in df_minor.columns]\n",
    "col_names = ['_'.join(col_name.split(' ')) for col_name in lower_case_cols]\n",
    "df_minor.columns = col_names"
   ]
  },
  {
   "cell_type": "code",
   "execution_count": 167,
   "metadata": {},
   "outputs": [
    {
     "name": "stdout",
     "output_type": "stream",
     "text": [
      "<class 'pandas.core.frame.DataFrame'>\n",
      "Int64Index: 491 entries, 278146 to 558761\n",
      "Data columns (total 19 columns):\n",
      "date_initiated                  491 non-null object\n",
      "description                     491 non-null object\n",
      "address                         488 non-null object\n",
      "zip_code                        113 non-null float64\n",
      "initiated_by                    491 non-null object\n",
      "date_time_closed                407 non-null object\n",
      "status                          491 non-null object\n",
      "x_coordinate                    490 non-null float64\n",
      "y_coordinate                    490 non-null float64\n",
      "lon                             490 non-null float64\n",
      "lat                             490 non-null float64\n",
      "request_type                    123 non-null object\n",
      "proactive                       65 non-null object\n",
      "initiated_by_resident           52 non-null object\n",
      "received_by_engineer            90 non-null object\n",
      "resident_contacted              97 non-null object\n",
      "on_hold_pending_other_action    6 non-null object\n",
      "date_in_progress                72 non-null object\n",
      "date_complete                   84 non-null object\n",
      "dtypes: float64(5), object(14)\n",
      "memory usage: 76.7+ KB\n"
     ]
    }
   ],
   "source": [
    "df_minor.info()"
   ]
  },
  {
   "cell_type": "code",
   "execution_count": 168,
   "metadata": {},
   "outputs": [],
   "source": [
    "# Convert time to Period objects\n",
    "df_minor.date_initiated = pd.PeriodIndex(df_minor.date_initiated.values,freq='d')\n",
    "df_minor.date_time_closed = pd.PeriodIndex(df_minor.date_time_closed.values,freq='d')"
   ]
  },
  {
   "cell_type": "code",
   "execution_count": 169,
   "metadata": {},
   "outputs": [],
   "source": [
    "# Sort by time\n",
    "df_minor = df_minor.sort_values('date_initiated')"
   ]
  },
  {
   "cell_type": "markdown",
   "metadata": {},
   "source": [
    "# Visualize frequency of reports"
   ]
  },
  {
   "cell_type": "code",
   "execution_count": 170,
   "metadata": {},
   "outputs": [
    {
     "data": {
      "image/png": "[encoded data removed]",
      "text/plain": [
       "<Figure size 720x360 with 1 Axes>"
      ]
     },
     "metadata": {
      "needs_background": "light"
     },
     "output_type": "display_data"
    }
   ],
   "source": [
    "# Plot frequency of requests\n",
    "df_minor['month-year'] = df_minor['date_initiated'].apply(lambda x: pd.Period(year=x.year,month=x.month,freq='m'))\n",
    "df_minor_gb = df_minor.groupby('month-year').count()\n",
    "fig, ax = plt.subplots(figsize=(10,5))\n",
    "\n",
    "ax.plot(df_minor_gb.index.to_timestamp(),df_minor_gb['date_initiated'])\n",
    "ax.set_title('Frequency of minor-road traffic requests by month')\n",
    "ax.x_label = 'Date'\n",
    "ax.y_label = 'Number of requests'\n",
    "fig.savefig('output/freq_chart_minor_roads.png')"
   ]
  },
  {
   "cell_type": "markdown",
   "metadata": {},
   "source": [
    "# Examine different concerns\n",
    "\n",
    "Potential idea: Regress concern on different infrastructural variables using logit regression"
   ]
  },
  {
   "cell_type": "code",
   "execution_count": 171,
   "metadata": {},
   "outputs": [
    {
     "data": {
      "text/plain": [
       "array(['CROSSING GUARD', 'CROSSWALK', 'DUPLICATE', 'FRISCO PD',\n",
       "       'MISCELLANEOUS', 'PARKING', 'ROAD WIDENING', 'SCHOOL CIRCULATION',\n",
       "       'SCHOOL ZONE', 'SIGN', 'SPEEDING', 'STREET LIGHTING',\n",
       "       'VISIBILITY RESTRICTIONS'], dtype=object)"
      ]
     },
     "execution_count": 171,
     "metadata": {},
     "output_type": "execute_result"
    }
   ],
   "source": [
    "request_types = df_minor.request_type[[type(val)==str for val in df_minor.request_type]].values\n",
    "np.unique(request_types)"
   ]
  },
  {
   "cell_type": "code",
   "execution_count": 172,
   "metadata": {},
   "outputs": [
    {
     "data": {
      "text/plain": [
       "initiated_by                  request_type           \n",
       "Integration, Citysourced      DUPLICATE                   2\n",
       "                              SIGN                        1\n",
       "Integration, Citysourced App  CROSSING GUARD              1\n",
       "                              CROSSWALK                   1\n",
       "                              DUPLICATE                   2\n",
       "                              FRISCO PD                  40\n",
       "                              MISCELLANEOUS               3\n",
       "                              PARKING                     5\n",
       "                              ROAD WIDENING               2\n",
       "                              SCHOOL CIRCULATION          3\n",
       "                              SCHOOL ZONE                 1\n",
       "                              SIGN                        5\n",
       "                              SPEEDING                    2\n",
       "                              STREET LIGHTING             1\n",
       "                              VISIBILITY RESTRICTIONS     2\n",
       "Staff                         CROSSING GUARD              8\n",
       "                              CROSSWALK                   4\n",
       "                              DUPLICATE                   3\n",
       "                              MISCELLANEOUS               4\n",
       "                              PARKING                     1\n",
       "                              SCHOOL CIRCULATION          4\n",
       "                              SCHOOL ZONE                 1\n",
       "                              SIGN                       20\n",
       "                              SPEEDING                    7\n",
       "Name: request_type, dtype: int64"
      ]
     },
     "execution_count": 172,
     "metadata": {},
     "output_type": "execute_result"
    }
   ],
   "source": [
    "df_minor.groupby(['initiated_by','request_type'])['request_type'].count()"
   ]
  },
  {
   "cell_type": "markdown",
   "metadata": {},
   "source": [
    "# Examine duration of issues"
   ]
  },
  {
   "cell_type": "code",
   "execution_count": 188,
   "metadata": {},
   "outputs": [
    {
     "name": "stderr",
     "output_type": "stream",
     "text": [
      "C:\\Users\\Andrew\\Anaconda3\\lib\\site-packages\\ipykernel_launcher.py:2: SettingWithCopyWarning: \n",
      "A value is trying to be set on a copy of a slice from a DataFrame.\n",
      "Try using .loc[row_indexer,col_indexer] = value instead\n",
      "\n",
      "See the caveats in the documentation: http://pandas.pydata.org/pandas-docs/stable/user_guide/indexing.html#returning-a-view-versus-a-copy\n",
      "  \n",
      "C:\\Users\\Andrew\\Anaconda3\\lib\\site-packages\\ipykernel_launcher.py:3: SettingWithCopyWarning: \n",
      "A value is trying to be set on a copy of a slice from a DataFrame.\n",
      "Try using .loc[row_indexer,col_indexer] = value instead\n",
      "\n",
      "See the caveats in the documentation: http://pandas.pydata.org/pandas-docs/stable/user_guide/indexing.html#returning-a-view-versus-a-copy\n",
      "  This is separate from the ipykernel package so we can avoid doing imports until\n"
     ]
    }
   ],
   "source": [
    "df_minor_full_dates = df_minor.loc[~df_minor.date_time_closed.isnull()]\n",
    "df_minor_full_dates['issue_duration'] = [end.to_timestamp()-start.to_timestamp() for start,end in zip(df_minor_full_dates.date_initiated,df_minor_full_dates.date_time_closed)]\n",
    "df_minor_full_dates['issue_duration'] = [date.days for date in df_minor_full_dates.issue_duration]"
   ]
  },
  {
   "cell_type": "code",
   "execution_count": 191,
   "metadata": {},
   "outputs": [
    {
     "data": {
      "text/plain": [
       "request_type\n",
       "CROSSING GUARD              55.571429\n",
       "CROSSWALK                   41.500000\n",
       "DUPLICATE                   68.857143\n",
       "FRISCO PD                   12.175000\n",
       "MISCELLANEOUS               39.750000\n",
       "PARKING                     19.800000\n",
       "ROAD WIDENING               43.000000\n",
       "SCHOOL CIRCULATION          63.333333\n",
       "SCHOOL ZONE                  7.500000\n",
       "SIGN                       197.235294\n",
       "SPEEDING                    37.000000\n",
       "STREET LIGHTING             29.000000\n",
       "VISIBILITY RESTRICTIONS     63.000000\n",
       "Name: issue_duration, dtype: float64"
      ]
     },
     "execution_count": 191,
     "metadata": {},
     "output_type": "execute_result"
    }
   ],
   "source": [
    "df_minor_full_dates.groupby('request_type')['issue_duration'].mean()"
   ]
  }
 ],
 "metadata": {
  "kernelspec": {
   "display_name": "Python 3",
   "language": "python",
   "name": "python3"
  },
  "language_info": {
   "codemirror_mode": {
    "name": "ipython",
    "version": 3
   },
   "file_extension": ".py",
   "mimetype": "text/x-python",
   "name": "python",
   "nbconvert_exporter": "python",
   "pygments_lexer": "ipython3",
   "version": "3.7.4"
  }
 },
 "nbformat": 4,
 "nbformat_minor": 2
}
